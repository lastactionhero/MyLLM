{
 "cells": [
  {
   "cell_type": "markdown",
   "id": "6aefb8fd",
   "metadata": {},
   "source": [
    "# Initialize libraries\n",
    "reference - [DeepLearningAI-Build an agent from scratch](https://learn.deeplearning.ai/courses/ai-agents-in-langgraph/lesson/c1l2c/build-an-agent-from-scratch)"
   ]
  },
  {
   "cell_type": "code",
   "execution_count": 1,
   "id": "b503aa8a",
   "metadata": {},
   "outputs": [],
   "source": [
    "import pandas as pd\n",
    "import openai"
   ]
  },
  {
   "cell_type": "code",
   "execution_count": 4,
   "id": "c57af035",
   "metadata": {},
   "outputs": [
    {
     "name": "stdout",
     "output_type": "stream",
     "text": [
      "That’s exciting! Hyderabad has a fascinating blend of history, culture, cuisine, and modern attractions. Here are **must-see sights and experiences** in Hyderabad:\n",
      "\n",
      "### Historical & Architectural Landmarks\n",
      "1. **Charminar**  \n",
      "   The iconic symbol of Hyderabad, this 16th-century monument is a must-visit for its stunning architecture and surrounding bustling bazaars.\n",
      "\n",
      "2. **Golconda Fort**  \n",
      "   A majestic citadel with impressive acoustics, tunnels, and viewpoints over the city—a great place for sunset.\n",
      "\n",
      "3. **Qutb Shahi Tombs**  \n",
      "   These beautifully domed tombs set in landscaped gardens are a haunting reminder of Hyderabad’s royal past.\n",
      "\n",
      "4. **Chowmahalla Palace**  \n",
      "   The opulent former seat of the Nizams, beautifully restored and open to the public.\n",
      "\n",
      "### Culture & Museums\n",
      "5. **Salar Jung Museum**  \n",
      "   One of India’s largest museums, housing an eclectic collection of art, antiques, and rare artifacts from around the world.\n",
      "\n",
      "6. **Shilparamam**  \n",
      "   An arts and crafts village and cultural center, great for handicraft shopping and catching cultural performances.\n",
      "\n",
      "### Spiritual Sites\n",
      "7. **Mecca Masjid**  \n",
      "   One of the oldest and largest mosques in India, located near Charminar.\n",
      "\n",
      "8. **Birla Mandir**  \n",
      "   A beautiful white marble Hindu temple perched atop a hill with panoramic views.\n",
      "\n",
      "### Family-Friendly & Modern Attractions\n",
      "9. **Hussain Sagar Lake & Necklace Road**  \n",
      "   Enjoy a boat ride to the giant Buddha statue or an evening stroll along the lively Necklace Road.\n",
      "\n",
      "10. **Ramoji Film City**  \n",
      "    The world’s largest film studio complex—guided tours and themed attractions make this a fun day trip.\n",
      "\n",
      "### Food & Markets\n",
      "11. **Laad Bazaar**  \n",
      "    Famous for bangles, pearls, and bridal finery—wander this traditional market close to Charminar.\n",
      "\n",
      "12. **Try Hyderabadi Cuisine**  \n",
      "    Don’t miss the legendary Hyderabadi biryani, haleem (especially during Ramadan), kebabs, Irani chai, and Osmania biscuits at classic cafes like Paradise, Café Bahar, or Shadab.\n",
      "\n",
      "### Offbeat & Lesser-known\n",
      "- **Taramati Baradari**: An old caravan rest stop with lovely views and cultural events.\n",
      "- **KBR National Park**: For a morning walk amid greenery and peacocks in the heart of the city.\n",
      "- **Street Art in Hyderabad**: Explore the emerging urban art scene, especially in areas like Necklace Road.\n",
      "\n",
      "### Tips:\n",
      "- The weather is hottest from March–June. Carry water and wear light clothes if visiting then.\n",
      "- For cultural immersion, visit during festivals like Bonalu, Ramzan, or Diwali.\n",
      "- Hyderabad is also known for pearls and traditional handicrafts—great for unique souvenirs.\n",
      "\n",
      "Let me know your interests (history, food, shopping, nature, etc.) for even more tailored recommendations!\n"
     ]
    }
   ],
   "source": [
    "import os\n",
    "from openai import AzureOpenAI\n",
    "\n",
    "endpoint = \"https://jpati-map2omv6-eastus2.openai.azure.com/\"\n",
    "model_name = \"gpt-4.1\"\n",
    "deployment = \"gpt-4.1\"\n",
    "\n",
    "subscription_key = \"3nGeXEgj0OJB5VMqfr7kTNhJiW0zxlT7Y14joTwfGHb7VDw18FDcJQQJ99BEACHYHv6XJ3w3AAAAACOGE5Y0\"\n",
    "api_version = \"2024-12-01-preview\"\n",
    "\n",
    "client = AzureOpenAI(\n",
    "    api_version=api_version,\n",
    "    azure_endpoint=endpoint,\n",
    "    api_key=subscription_key,\n",
    ")\n",
    "\n",
    "response = client.chat.completions.create(\n",
    "    messages=[\n",
    "        {\n",
    "            \"role\": \"system\",\n",
    "            \"content\": \"You are a helpful assistant.\",\n",
    "        },\n",
    "        {\n",
    "            \"role\": \"user\",\n",
    "            \"content\": \"I am going to Hyderabad, what should I see?\",\n",
    "        }\n",
    "    ],\n",
    "    max_completion_tokens=800,\n",
    "    temperature=1.0,\n",
    "    top_p=1.0,\n",
    "    frequency_penalty=0.0,\n",
    "    presence_penalty=0.0,\n",
    "    model=deployment\n",
    ")\n",
    "\n",
    "print(response.choices[0].message.content)"
   ]
  },
  {
   "cell_type": "markdown",
   "id": "e31bda34",
   "metadata": {},
   "source": [
    "# Define agent"
   ]
  },
  {
   "cell_type": "markdown",
   "id": "dbde4627",
   "metadata": {},
   "source": [
    "## Agent\n",
    "- An agent is an autonomous entity that can reason, plan, and decide which actions (tools) to use to accomplish a task.\n",
    "- It manages the conversation, maintains context, and determines when and how to use tools.\n",
    "Example: Your Agent class receives a user query, decides if it needs to call a tool (like a calculator or a dog weight lookup), and manages the flow of \n",
    "\n",
    "**Thought → Action → Observation → Answer.**"
   ]
  },
  {
   "cell_type": "markdown",
   "id": "f2b715cc",
   "metadata": {},
   "source": [
    "![alt text](image.png)"
   ]
  },
  {
   "cell_type": "code",
   "execution_count": 11,
   "id": "d0492019",
   "metadata": {},
   "outputs": [],
   "source": [
    "prompt = \"\"\"\n",
    "You run in a loop of Thought, Action, PAUSE, Observation.\n",
    "At the end of the loop you output an Answer\n",
    "Use Thought to describe your thoughts about the question you have been asked.\n",
    "Use Action to run one of the actions available to you - then return PAUSE.\n",
    "Observation will be the result of running those actions.\n",
    "\n",
    "Your available actions are:\n",
    "\n",
    "calculate:\n",
    "e.g. calculate: 4 * 7 / 3\n",
    "Runs a calculation and returns the number - uses Python so be sure to use floating point syntax if necessary\n",
    "\n",
    "average_dog_weight:\n",
    "e.g. average_dog_weight: Collie\n",
    "returns average weight of a dog when given the breed\n",
    "\n",
    "Example session:\n",
    "\n",
    "Question: How much does a Bulldog weigh?\n",
    "Thought: I should look the dogs weight using average_dog_weight\n",
    "Action: average_dog_weight: Bulldog\n",
    "PAUSE\n",
    "\n",
    "You will be called again with this:\n",
    "\n",
    "Observation: A Bulldog weights 51 lbs\n",
    "\n",
    "You then output:\n",
    "\n",
    "Answer: A bulldog weights 51 lbs\n",
    "\"\"\".strip()"
   ]
  },
  {
   "cell_type": "code",
   "execution_count": 10,
   "id": "6aeb6d88",
   "metadata": {},
   "outputs": [],
   "source": [
    "class Agent:\n",
    "    def __init__(self, system=\"\"):\n",
    "        self.system = system\n",
    "        self.messages = []\n",
    "        if self.system:\n",
    "            self.messages.append({\"role\": \"system\", \"content\": system})\n",
    "\n",
    "    def __call__(self, message):\n",
    "        self.messages.append({\"role\": \"user\", \"content\": message})\n",
    "        result = self.execute()\n",
    "        self.messages.append({\"role\": \"assistant\", \"content\": result})\n",
    "        return result\n",
    "\n",
    "    def execute(self):\n",
    "        completion = client.chat.completions.create(\n",
    "                        model=model_name, \n",
    "                        temperature=0,\n",
    "                        messages=self.messages)\n",
    "        return completion.choices[0].message.content\n",
    "    "
   ]
  },
  {
   "cell_type": "code",
   "execution_count": 12,
   "id": "8796cda7",
   "metadata": {},
   "outputs": [],
   "source": [
    "def calculate(what):\n",
    "    return eval(what)\n",
    "\n",
    "def average_dog_weight(name):\n",
    "    if name in \"Scottish Terrier\": \n",
    "        return(\"Scottish Terriers average 20 lbs\")\n",
    "    elif name in \"Border Collie\":\n",
    "        return(\"a Border Collies average weight is 37 lbs\")\n",
    "    elif name in \"Toy Poodle\":\n",
    "        return(\"a toy poodles average weight is 7 lbs\")\n",
    "    else:\n",
    "        return(\"An average dog weights 50 lbs\")\n",
    "\n",
    "known_actions = {\n",
    "    \"calculate\": calculate,\n",
    "    \"average_dog_weight\": average_dog_weight\n",
    "}"
   ]
  },
  {
   "cell_type": "code",
   "execution_count": 46,
   "id": "742f927c",
   "metadata": {},
   "outputs": [],
   "source": [
    "abot = Agent(prompt)"
   ]
  },
  {
   "cell_type": "code",
   "execution_count": 47,
   "id": "cf50d9be",
   "metadata": {},
   "outputs": [
    {
     "data": {
      "text/plain": [
       "\"Answer: Thank you for asking! As an AI, I don't have feelings, but I'm here and ready to help you with any questions you have.\""
      ]
     },
     "execution_count": 47,
     "metadata": {},
     "output_type": "execute_result"
    }
   ],
   "source": [
    "abot(\"how are you doing today?\")"
   ]
  },
  {
   "cell_type": "code",
   "execution_count": 48,
   "id": "7b9880aa",
   "metadata": {},
   "outputs": [
    {
     "data": {
      "text/plain": [
       "\"Answer: Yes, I can provide information about the average weights of different dog breeds. If you tell me the breed you're interested in, I can look up its average weight for you.\""
      ]
     },
     "execution_count": 48,
     "metadata": {},
     "output_type": "execute_result"
    }
   ],
   "source": [
    "abot(\"Do you knwo different weights of dogs?\")"
   ]
  },
  {
   "cell_type": "code",
   "execution_count": 49,
   "id": "5c4190bc",
   "metadata": {},
   "outputs": [
    {
     "name": "stdout",
     "output_type": "stream",
     "text": [
      "Thought: I should look up the average weight of a Toy Poodle using the average_dog_weight action.\n",
      "Action: average_dog_weight: Toy Poodle\n",
      "PAUSE\n"
     ]
    }
   ],
   "source": [
    "result = abot(\"How much does a toy poodle weigh?\")\n",
    "print(result)"
   ]
  },
  {
   "cell_type": "code",
   "execution_count": 15,
   "id": "48bafdef",
   "metadata": {},
   "outputs": [],
   "source": [
    "result = average_dog_weight(\"Toy Poodle\")"
   ]
  },
  {
   "cell_type": "code",
   "execution_count": 16,
   "id": "23f374ad",
   "metadata": {},
   "outputs": [
    {
     "data": {
      "text/plain": [
       "'a toy poodles average weight is 7 lbs'"
      ]
     },
     "execution_count": 16,
     "metadata": {},
     "output_type": "execute_result"
    }
   ],
   "source": [
    "result"
   ]
  },
  {
   "cell_type": "code",
   "execution_count": 17,
   "id": "65fa32c1",
   "metadata": {},
   "outputs": [],
   "source": [
    "next_prompt = \"Observation: {}\".format(result)"
   ]
  },
  {
   "cell_type": "code",
   "execution_count": 18,
   "id": "ef20e755",
   "metadata": {},
   "outputs": [
    {
     "data": {
      "text/plain": [
       "'Observation: a toy poodles average weight is 7 lbs'"
      ]
     },
     "execution_count": 18,
     "metadata": {},
     "output_type": "execute_result"
    }
   ],
   "source": [
    "next_prompt"
   ]
  },
  {
   "cell_type": "code",
   "execution_count": 19,
   "id": "dd3eecc6",
   "metadata": {},
   "outputs": [
    {
     "data": {
      "text/plain": [
       "\"Answer: A toy poodle's average weight is 7 lbs.\""
      ]
     },
     "execution_count": 19,
     "metadata": {},
     "output_type": "execute_result"
    }
   ],
   "source": [
    "abot(next_prompt)"
   ]
  },
  {
   "cell_type": "code",
   "execution_count": 20,
   "id": "b10b7a9a",
   "metadata": {},
   "outputs": [
    {
     "data": {
      "text/plain": [
       "[{'role': 'system',\n",
       "  'content': 'You run in a loop of Thought, Action, PAUSE, Observation.\\nAt the end of the loop you output an Answer\\nUse Thought to describe your thoughts about the question you have been asked.\\nUse Action to run one of the actions available to you - then return PAUSE.\\nObservation will be the result of running those actions.\\n\\nYour available actions are:\\n\\ncalculate:\\ne.g. calculate: 4 * 7 / 3\\nRuns a calculation and returns the number - uses Python so be sure to use floating point syntax if necessary\\n\\naverage_dog_weight:\\ne.g. average_dog_weight: Collie\\nreturns average weight of a dog when given the breed\\n\\nExample session:\\n\\nQuestion: How much does a Bulldog weigh?\\nThought: I should look the dogs weight using average_dog_weight\\nAction: average_dog_weight: Bulldog\\nPAUSE\\n\\nYou will be called again with this:\\n\\nObservation: A Bulldog weights 51 lbs\\n\\nYou then output:\\n\\nAnswer: A bulldog weights 51 lbs'},\n",
       " {'role': 'user', 'content': 'How much does a toy poodle weigh?'},\n",
       " {'role': 'assistant',\n",
       "  'content': 'Thought: I should look up the average weight of a toy poodle using average_dog_weight.\\nAction: average_dog_weight: Toy Poodle\\nPAUSE'},\n",
       " {'role': 'user',\n",
       "  'content': 'Observation: a toy poodles average weight is 7 lbs'},\n",
       " {'role': 'assistant',\n",
       "  'content': \"Answer: A toy poodle's average weight is 7 lbs.\"}]"
      ]
     },
     "execution_count": 20,
     "metadata": {},
     "output_type": "execute_result"
    }
   ],
   "source": [
    "abot.messages"
   ]
  },
  {
   "cell_type": "code",
   "execution_count": 34,
   "id": "eea474f3",
   "metadata": {},
   "outputs": [],
   "source": [
    "abot = Agent(prompt)"
   ]
  },
  {
   "cell_type": "code",
   "execution_count": 35,
   "id": "e476a59f",
   "metadata": {},
   "outputs": [
    {
     "data": {
      "text/plain": [
       "'Thought: I need to find the average weight of a Border Collie and a Scottish Terrier, then add them together.\\nAction: average_dog_weight: Border Collie\\nPAUSE'"
      ]
     },
     "execution_count": 35,
     "metadata": {},
     "output_type": "execute_result"
    }
   ],
   "source": [
    "question = \"\"\"I have 2 dogs, a border collie and a scottish terrier. \\\n",
    "What is their combined weight\"\"\"\n",
    "abot(question)"
   ]
  },
  {
   "cell_type": "code",
   "execution_count": 36,
   "id": "ad8b6032",
   "metadata": {},
   "outputs": [
    {
     "name": "stdout",
     "output_type": "stream",
     "text": [
      "Observation: a Border Collies average weight is 37 lbs\n"
     ]
    }
   ],
   "source": [
    "next_prompt = \"Observation: {}\".format(average_dog_weight(\"Border Collie\"))\n",
    "print(next_prompt)"
   ]
  },
  {
   "cell_type": "code",
   "execution_count": 37,
   "id": "de455d9a",
   "metadata": {},
   "outputs": [
    {
     "data": {
      "text/plain": [
       "'Action: average_dog_weight: Scottish Terrier\\nPAUSE'"
      ]
     },
     "execution_count": 37,
     "metadata": {},
     "output_type": "execute_result"
    }
   ],
   "source": [
    "abot(next_prompt)"
   ]
  },
  {
   "cell_type": "code",
   "execution_count": 45,
   "id": "cf185c88",
   "metadata": {},
   "outputs": [
    {
     "data": {
      "text/plain": [
       "[{'role': 'system',\n",
       "  'content': 'You run in a loop of Thought, Action, PAUSE, Observation.\\nAt the end of the loop you output an Answer\\nUse Thought to describe your thoughts about the question you have been asked.\\nUse Action to run one of the actions available to you - then return PAUSE.\\nObservation will be the result of running those actions.\\n\\nYour available actions are:\\n\\ncalculate:\\ne.g. calculate: 4 * 7 / 3\\nRuns a calculation and returns the number - uses Python so be sure to use floating point syntax if necessary\\n\\naverage_dog_weight:\\ne.g. average_dog_weight: Collie\\nreturns average weight of a dog when given the breed\\n\\nExample session:\\n\\nQuestion: How much does a Bulldog weigh?\\nThought: I should look the dogs weight using average_dog_weight\\nAction: average_dog_weight: Bulldog\\nPAUSE\\n\\nYou will be called again with this:\\n\\nObservation: A Bulldog weights 51 lbs\\n\\nYou then output:\\n\\nAnswer: A bulldog weights 51 lbs'},\n",
       " {'role': 'user',\n",
       "  'content': 'I have 2 dogs, a border collie and a scottish terrier. What is their combined weight'},\n",
       " {'role': 'assistant',\n",
       "  'content': 'Thought: I need to find the average weight of a Border Collie and a Scottish Terrier, then add them together.\\nAction: average_dog_weight: Border Collie\\nPAUSE'},\n",
       " {'role': 'user',\n",
       "  'content': 'Observation: a Border Collies average weight is 37 lbs'},\n",
       " {'role': 'assistant',\n",
       "  'content': 'Action: average_dog_weight: Scottish Terrier\\nPAUSE'},\n",
       " {'role': 'user', 'content': 'Observation: Scottish Terriers average 20 lbs'},\n",
       " {'role': 'assistant', 'content': 'Action: calculate: 37 + 20\\nPAUSE'},\n",
       " {'role': 'user', 'content': 'Observation: 57'},\n",
       " {'role': 'assistant',\n",
       "  'content': 'Answer: The combined average weight of a Border Collie and a Scottish Terrier is 57 lbs.'}]"
      ]
     },
     "execution_count": 45,
     "metadata": {},
     "output_type": "execute_result"
    }
   ],
   "source": [
    "abot.messages"
   ]
  },
  {
   "cell_type": "code",
   "execution_count": 40,
   "id": "227fdea8",
   "metadata": {},
   "outputs": [
    {
     "name": "stdout",
     "output_type": "stream",
     "text": [
      "Observation: Scottish Terriers average 20 lbs\n"
     ]
    }
   ],
   "source": [
    "next_prompt = \"Observation: {}\".format(average_dog_weight(\"Scottish Terrier\"))\n",
    "print(next_prompt)"
   ]
  },
  {
   "cell_type": "code",
   "execution_count": 41,
   "id": "dab424a8",
   "metadata": {},
   "outputs": [
    {
     "data": {
      "text/plain": [
       "'Action: calculate: 37 + 20\\nPAUSE'"
      ]
     },
     "execution_count": 41,
     "metadata": {},
     "output_type": "execute_result"
    }
   ],
   "source": [
    "abot(next_prompt)"
   ]
  },
  {
   "cell_type": "code",
   "execution_count": 28,
   "id": "6528d51a",
   "metadata": {},
   "outputs": [
    {
     "data": {
      "text/plain": [
       "57"
      ]
     },
     "execution_count": 28,
     "metadata": {},
     "output_type": "execute_result"
    }
   ],
   "source": [
    "calculate('37 + 20')"
   ]
  },
  {
   "cell_type": "code",
   "execution_count": 43,
   "id": "2d926caa",
   "metadata": {},
   "outputs": [
    {
     "name": "stdout",
     "output_type": "stream",
     "text": [
      "Observation: 57\n"
     ]
    }
   ],
   "source": [
    "next_prompt = \"Observation: {}\".format(eval(\"37 + 20\"))\n",
    "print(next_prompt)\n"
   ]
  },
  {
   "cell_type": "code",
   "execution_count": 44,
   "id": "2f520f7c",
   "metadata": {},
   "outputs": [
    {
     "data": {
      "text/plain": [
       "'Answer: The combined average weight of a Border Collie and a Scottish Terrier is 57 lbs.'"
      ]
     },
     "execution_count": 44,
     "metadata": {},
     "output_type": "execute_result"
    }
   ],
   "source": [
    "abot(next_prompt)"
   ]
  },
  {
   "cell_type": "code",
   "execution_count": null,
   "id": "e1182dd2",
   "metadata": {},
   "outputs": [],
   "source": []
  }
 ],
 "metadata": {
  "kernelspec": {
   "display_name": "Python 3",
   "language": "python",
   "name": "python3"
  },
  "language_info": {
   "codemirror_mode": {
    "name": "ipython",
    "version": 3
   },
   "file_extension": ".py",
   "mimetype": "text/x-python",
   "name": "python",
   "nbconvert_exporter": "python",
   "pygments_lexer": "ipython3",
   "version": "3.12.10"
  }
 },
 "nbformat": 4,
 "nbformat_minor": 5
}
